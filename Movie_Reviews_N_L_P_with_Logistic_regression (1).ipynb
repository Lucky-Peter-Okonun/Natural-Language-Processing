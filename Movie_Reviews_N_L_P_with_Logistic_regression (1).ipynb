{
 "cells": [
  {
   "cell_type": "markdown",
   "metadata": {},
   "source": [
    "## Natural_Language_Processing\n",
    "\n",
    "### Logistic Regression"
   ]
  },
  {
   "cell_type": "markdown",
   "metadata": {},
   "source": [
    "## Import the libraries"
   ]
  },
  {
   "cell_type": "code",
   "execution_count": 1,
   "metadata": {},
   "outputs": [],
   "source": [
    "import numpy as np\n",
    "import pandas as pd\n",
    "import matplotlib.pyplot as plt"
   ]
  },
  {
   "cell_type": "markdown",
   "metadata": {},
   "source": [
    "### Load and read the dataset"
   ]
  },
  {
   "cell_type": "code",
   "execution_count": 2,
   "metadata": {},
   "outputs": [
    {
     "data": {
      "text/html": [
       "<div>\n",
       "<style scoped>\n",
       "    .dataframe tbody tr th:only-of-type {\n",
       "        vertical-align: middle;\n",
       "    }\n",
       "\n",
       "    .dataframe tbody tr th {\n",
       "        vertical-align: top;\n",
       "    }\n",
       "\n",
       "    .dataframe thead th {\n",
       "        text-align: right;\n",
       "    }\n",
       "</style>\n",
       "<table border=\"1\" class=\"dataframe\">\n",
       "  <thead>\n",
       "    <tr style=\"text-align: right;\">\n",
       "      <th></th>\n",
       "      <th>0</th>\n",
       "      <th>1</th>\n",
       "    </tr>\n",
       "  </thead>\n",
       "  <tbody>\n",
       "    <tr>\n",
       "      <th>0</th>\n",
       "      <td>A very, very, very slow-moving, aimless movie ...</td>\n",
       "      <td>0</td>\n",
       "    </tr>\n",
       "    <tr>\n",
       "      <th>1</th>\n",
       "      <td>Not sure who was more lost - the flat characte...</td>\n",
       "      <td>0</td>\n",
       "    </tr>\n",
       "    <tr>\n",
       "      <th>2</th>\n",
       "      <td>Attempting artiness with black &amp; white and cle...</td>\n",
       "      <td>0</td>\n",
       "    </tr>\n",
       "    <tr>\n",
       "      <th>3</th>\n",
       "      <td>Very little music or anything to speak of.</td>\n",
       "      <td>0</td>\n",
       "    </tr>\n",
       "    <tr>\n",
       "      <th>4</th>\n",
       "      <td>The best scene in the movie was when Gerardo i...</td>\n",
       "      <td>1</td>\n",
       "    </tr>\n",
       "    <tr>\n",
       "      <th>5</th>\n",
       "      <td>The rest of the movie lacks art, charm, meanin...</td>\n",
       "      <td>0</td>\n",
       "    </tr>\n",
       "    <tr>\n",
       "      <th>6</th>\n",
       "      <td>Wasted two hours.</td>\n",
       "      <td>0</td>\n",
       "    </tr>\n",
       "    <tr>\n",
       "      <th>7</th>\n",
       "      <td>Saw the movie today and thought it was a good ...</td>\n",
       "      <td>1</td>\n",
       "    </tr>\n",
       "    <tr>\n",
       "      <th>8</th>\n",
       "      <td>A bit predictable.</td>\n",
       "      <td>0</td>\n",
       "    </tr>\n",
       "    <tr>\n",
       "      <th>9</th>\n",
       "      <td>Loved the casting of Jimmy Buffet as the scien...</td>\n",
       "      <td>1</td>\n",
       "    </tr>\n",
       "  </tbody>\n",
       "</table>\n",
       "</div>"
      ],
      "text/plain": [
       "                                                   0  1\n",
       "0  A very, very, very slow-moving, aimless movie ...  0\n",
       "1  Not sure who was more lost - the flat characte...  0\n",
       "2  Attempting artiness with black & white and cle...  0\n",
       "3       Very little music or anything to speak of.    0\n",
       "4  The best scene in the movie was when Gerardo i...  1\n",
       "5  The rest of the movie lacks art, charm, meanin...  0\n",
       "6                                Wasted two hours.    0\n",
       "7  Saw the movie today and thought it was a good ...  1\n",
       "8                               A bit predictable.    0\n",
       "9  Loved the casting of Jimmy Buffet as the scien...  1"
      ]
     },
     "execution_count": 2,
     "metadata": {},
     "output_type": "execute_result"
    }
   ],
   "source": [
    "df = pd.read_csv(\"imdb_labelled.txt\",delimiter = \"\\t\", quoting = 3, header = None)\n",
    "df.head(10)"
   ]
  },
  {
   "cell_type": "markdown",
   "metadata": {},
   "source": [
    "### Create an headers for the dataset"
   ]
  },
  {
   "cell_type": "code",
   "execution_count": 3,
   "metadata": {},
   "outputs": [],
   "source": [
    "headers = [\"Movie\", \"Liked\"]"
   ]
  },
  {
   "cell_type": "code",
   "execution_count": 4,
   "metadata": {},
   "outputs": [],
   "source": [
    "df.columns = headers"
   ]
  },
  {
   "cell_type": "code",
   "execution_count": 5,
   "metadata": {},
   "outputs": [
    {
     "data": {
      "text/html": [
       "<div>\n",
       "<style scoped>\n",
       "    .dataframe tbody tr th:only-of-type {\n",
       "        vertical-align: middle;\n",
       "    }\n",
       "\n",
       "    .dataframe tbody tr th {\n",
       "        vertical-align: top;\n",
       "    }\n",
       "\n",
       "    .dataframe thead th {\n",
       "        text-align: right;\n",
       "    }\n",
       "</style>\n",
       "<table border=\"1\" class=\"dataframe\">\n",
       "  <thead>\n",
       "    <tr style=\"text-align: right;\">\n",
       "      <th></th>\n",
       "      <th>Movie</th>\n",
       "      <th>Liked</th>\n",
       "    </tr>\n",
       "  </thead>\n",
       "  <tbody>\n",
       "    <tr>\n",
       "      <th>0</th>\n",
       "      <td>A very, very, very slow-moving, aimless movie ...</td>\n",
       "      <td>0</td>\n",
       "    </tr>\n",
       "    <tr>\n",
       "      <th>1</th>\n",
       "      <td>Not sure who was more lost - the flat characte...</td>\n",
       "      <td>0</td>\n",
       "    </tr>\n",
       "    <tr>\n",
       "      <th>2</th>\n",
       "      <td>Attempting artiness with black &amp; white and cle...</td>\n",
       "      <td>0</td>\n",
       "    </tr>\n",
       "    <tr>\n",
       "      <th>3</th>\n",
       "      <td>Very little music or anything to speak of.</td>\n",
       "      <td>0</td>\n",
       "    </tr>\n",
       "    <tr>\n",
       "      <th>4</th>\n",
       "      <td>The best scene in the movie was when Gerardo i...</td>\n",
       "      <td>1</td>\n",
       "    </tr>\n",
       "    <tr>\n",
       "      <th>5</th>\n",
       "      <td>The rest of the movie lacks art, charm, meanin...</td>\n",
       "      <td>0</td>\n",
       "    </tr>\n",
       "    <tr>\n",
       "      <th>6</th>\n",
       "      <td>Wasted two hours.</td>\n",
       "      <td>0</td>\n",
       "    </tr>\n",
       "    <tr>\n",
       "      <th>7</th>\n",
       "      <td>Saw the movie today and thought it was a good ...</td>\n",
       "      <td>1</td>\n",
       "    </tr>\n",
       "    <tr>\n",
       "      <th>8</th>\n",
       "      <td>A bit predictable.</td>\n",
       "      <td>0</td>\n",
       "    </tr>\n",
       "    <tr>\n",
       "      <th>9</th>\n",
       "      <td>Loved the casting of Jimmy Buffet as the scien...</td>\n",
       "      <td>1</td>\n",
       "    </tr>\n",
       "    <tr>\n",
       "      <th>10</th>\n",
       "      <td>And those baby owls were adorable.</td>\n",
       "      <td>1</td>\n",
       "    </tr>\n",
       "    <tr>\n",
       "      <th>11</th>\n",
       "      <td>The movie showed a lot of Florida at it's best...</td>\n",
       "      <td>1</td>\n",
       "    </tr>\n",
       "    <tr>\n",
       "      <th>12</th>\n",
       "      <td>The Songs Were The Best And The Muppets Were S...</td>\n",
       "      <td>1</td>\n",
       "    </tr>\n",
       "    <tr>\n",
       "      <th>13</th>\n",
       "      <td>It Was So Cool.</td>\n",
       "      <td>1</td>\n",
       "    </tr>\n",
       "    <tr>\n",
       "      <th>14</th>\n",
       "      <td>This is a very \"right on case\" movie that deli...</td>\n",
       "      <td>1</td>\n",
       "    </tr>\n",
       "  </tbody>\n",
       "</table>\n",
       "</div>"
      ],
      "text/plain": [
       "                                                Movie  Liked\n",
       "0   A very, very, very slow-moving, aimless movie ...      0\n",
       "1   Not sure who was more lost - the flat characte...      0\n",
       "2   Attempting artiness with black & white and cle...      0\n",
       "3        Very little music or anything to speak of.        0\n",
       "4   The best scene in the movie was when Gerardo i...      1\n",
       "5   The rest of the movie lacks art, charm, meanin...      0\n",
       "6                                 Wasted two hours.        0\n",
       "7   Saw the movie today and thought it was a good ...      1\n",
       "8                                A bit predictable.        0\n",
       "9   Loved the casting of Jimmy Buffet as the scien...      1\n",
       "10               And those baby owls were adorable.        1\n",
       "11  The movie showed a lot of Florida at it's best...      1\n",
       "12  The Songs Were The Best And The Muppets Were S...      1\n",
       "13                                  It Was So Cool.        1\n",
       "14  This is a very \"right on case\" movie that deli...      1"
      ]
     },
     "execution_count": 5,
     "metadata": {},
     "output_type": "execute_result"
    }
   ],
   "source": [
    "df.head(15)"
   ]
  },
  {
   "cell_type": "code",
   "execution_count": 6,
   "metadata": {},
   "outputs": [
    {
     "data": {
      "text/html": [
       "<div>\n",
       "<style scoped>\n",
       "    .dataframe tbody tr th:only-of-type {\n",
       "        vertical-align: middle;\n",
       "    }\n",
       "\n",
       "    .dataframe tbody tr th {\n",
       "        vertical-align: top;\n",
       "    }\n",
       "\n",
       "    .dataframe thead th {\n",
       "        text-align: right;\n",
       "    }\n",
       "</style>\n",
       "<table border=\"1\" class=\"dataframe\">\n",
       "  <thead>\n",
       "    <tr style=\"text-align: right;\">\n",
       "      <th></th>\n",
       "      <th>Movie</th>\n",
       "      <th>Liked</th>\n",
       "    </tr>\n",
       "  </thead>\n",
       "  <tbody>\n",
       "    <tr>\n",
       "      <th>686</th>\n",
       "      <td>This is just a great movie.</td>\n",
       "      <td>1</td>\n",
       "    </tr>\n",
       "    <tr>\n",
       "      <th>162</th>\n",
       "      <td>Awful.</td>\n",
       "      <td>0</td>\n",
       "    </tr>\n",
       "    <tr>\n",
       "      <th>18</th>\n",
       "      <td>It's practically perfect in all of them  a tr...</td>\n",
       "      <td>1</td>\n",
       "    </tr>\n",
       "    <tr>\n",
       "      <th>620</th>\n",
       "      <td>This is a masterful piece of film-making, with...</td>\n",
       "      <td>1</td>\n",
       "    </tr>\n",
       "    <tr>\n",
       "      <th>651</th>\n",
       "      <td>The acting is fantastic, the stories are seaml...</td>\n",
       "      <td>1</td>\n",
       "    </tr>\n",
       "    <tr>\n",
       "      <th>87</th>\n",
       "      <td>The Wind and the Lion is well written and supe...</td>\n",
       "      <td>1</td>\n",
       "    </tr>\n",
       "    <tr>\n",
       "      <th>433</th>\n",
       "      <td>It came free with a DVD player I bought but I ...</td>\n",
       "      <td>0</td>\n",
       "    </tr>\n",
       "    <tr>\n",
       "      <th>213</th>\n",
       "      <td>Ray Charles is legendary.</td>\n",
       "      <td>1</td>\n",
       "    </tr>\n",
       "    <tr>\n",
       "      <th>271</th>\n",
       "      <td>Up there with the best of Melville.</td>\n",
       "      <td>1</td>\n",
       "    </tr>\n",
       "    <tr>\n",
       "      <th>2</th>\n",
       "      <td>Attempting artiness with black &amp; white and cle...</td>\n",
       "      <td>0</td>\n",
       "    </tr>\n",
       "    <tr>\n",
       "      <th>656</th>\n",
       "      <td>Very true to Shakespear, and a 'must' for all ...</td>\n",
       "      <td>1</td>\n",
       "    </tr>\n",
       "    <tr>\n",
       "      <th>638</th>\n",
       "      <td>I have to say that this film was excellently p...</td>\n",
       "      <td>1</td>\n",
       "    </tr>\n",
       "    <tr>\n",
       "      <th>133</th>\n",
       "      <td>All in all, a great disappointment.</td>\n",
       "      <td>0</td>\n",
       "    </tr>\n",
       "    <tr>\n",
       "      <th>693</th>\n",
       "      <td>I advise you to look out for it.</td>\n",
       "      <td>1</td>\n",
       "    </tr>\n",
       "    <tr>\n",
       "      <th>413</th>\n",
       "      <td>The camera really likes her in this movie.</td>\n",
       "      <td>1</td>\n",
       "    </tr>\n",
       "  </tbody>\n",
       "</table>\n",
       "</div>"
      ],
      "text/plain": [
       "                                                 Movie  Liked\n",
       "686                      This is just a great movie.        1\n",
       "162                                           Awful.        0\n",
       "18   It's practically perfect in all of them  a tr...      1\n",
       "620  This is a masterful piece of film-making, with...      1\n",
       "651  The acting is fantastic, the stories are seaml...      1\n",
       "87   The Wind and the Lion is well written and supe...      1\n",
       "433  It came free with a DVD player I bought but I ...      0\n",
       "213                        Ray Charles is legendary.        1\n",
       "271              Up there with the best of Melville.        1\n",
       "2    Attempting artiness with black & white and cle...      0\n",
       "656  Very true to Shakespear, and a 'must' for all ...      1\n",
       "638  I have to say that this film was excellently p...      1\n",
       "133              All in all, a great disappointment.        0\n",
       "693                 I advise you to look out for it.        1\n",
       "413       The camera really likes her in this movie.        1"
      ]
     },
     "execution_count": 6,
     "metadata": {},
     "output_type": "execute_result"
    }
   ],
   "source": [
    "df.sample(15)"
   ]
  },
  {
   "cell_type": "code",
   "execution_count": 7,
   "metadata": {},
   "outputs": [
    {
     "data": {
      "text/plain": [
       "(1000, 2)"
      ]
     },
     "execution_count": 7,
     "metadata": {},
     "output_type": "execute_result"
    }
   ],
   "source": [
    "df.shape"
   ]
  },
  {
   "cell_type": "markdown",
   "metadata": {},
   "source": [
    "## Clearning the Test"
   ]
  },
  {
   "cell_type": "code",
   "execution_count": 8,
   "metadata": {},
   "outputs": [
    {
     "name": "stderr",
     "output_type": "stream",
     "text": [
      "[nltk_data] Downloading package stopwords to\n",
      "[nltk_data]     C:\\Users\\peter\\AppData\\Roaming\\nltk_data...\n",
      "[nltk_data]   Package stopwords is already up-to-date!\n"
     ]
    }
   ],
   "source": [
    "import re\n",
    "import nltk\n",
    "nltk.download(\"stopwords\")\n",
    "from nltk.corpus import stopwords\n",
    "from nltk.stem.porter import PorterStemmer\n",
    "corpus = []\n",
    "for i in range(0, 1000):\n",
    "  review = re.sub('[^a-zA-Z]', ' ', df['Movie'][i])\n",
    "  review = review.lower()\n",
    "  review = review.split()\n",
    "  ps = PorterStemmer()\n",
    "  all_stopwords = stopwords.words('english')\n",
    "  all_stopwords.remove('not')\n",
    "  review = [ps.stem(word) for word in review if not word in set(all_stopwords)]\n",
    "  review = ' '.join(review)\n",
    "  corpus.append(review)"
   ]
  },
  {
   "cell_type": "code",
   "execution_count": 9,
   "metadata": {},
   "outputs": [
    {
     "name": "stdout",
     "output_type": "stream",
     "text": [
      "['slow move aimless movi distress drift young man', 'not sure lost flat charact audienc nearli half walk', 'attempt arti black white clever camera angl movi disappoint becam even ridicul act poor plot line almost non exist', 'littl music anyth speak', 'best scene movi gerardo tri find song keep run head', 'rest movi lack art charm mean empti work guess empti', 'wast two hour', 'saw movi today thought good effort good messag kid', 'bit predict', 'love cast jimmi buffet scienc teacher', 'babi owl ador', 'movi show lot florida best made look appeal', 'song best muppet hilari', 'cool', 'right case movi deliv everyth almost right face', 'averag act main person low budget clearli see', 'review long overdu sinc consid tale two sister singl greatest film ever made', 'put gem movi term screenplay cinematographi act post product edit direct aspect film make', 'practic perfect true masterpiec sea faux masterpiec', 'structur film easili tightli construct histori cinema', 'think film someth vital import occur everi minut', 'word content level film enough easili fill dozen film', 'anyon right mind ask anyth movi', 'quit simpli highest superl form cinema imagin', 'ye film requir rather signific amount puzzl solv piec fit togeth creat beauti pictur', 'short film certainli pull punch', 'graphic far best part game', 'number one best th game seri', 'deserv strong love', 'insan game', 'massiv level massiv unlock charact massiv game', 'wast money game', 'kind money wast properli', 'actual graphic good time', 'today graphic crap', 'say canada fun game aye', 'game rock', 'buy play enjoy love', 'pure brillianc', 'flick doom concept', 'idea lame take minor charact mediocr pg film make complet non sequel chang tone pg rate famili movi', 'least bit interest', 'not confirm film would unfunni gener also manag give away entir movi not exagger everi moment everi plot point everi joke told trailer', 'not funni', 'even talent carrel save', 'co star fare much better peopl like morgan freeman jonah hill ed helm wast', 'stori predict lazi', 'real effect work presenc anim integr scene worst obviou blue green screen work ever seen', 'whatev cost much translat qualiti sure', 'film succe despit perhap obvious meagr budget', 'glad film go obviou choic lesser film certainli would', 'addit one love song ever written french cancan also boast one cutest lead ladi ever grace screen', 'hard not fall head heel love girl', 'neg insipid enough caus regret anoth hour life wast front screen', 'long whini pointless', 'recommend wait futur effort let one go', 'excel cast stori line perform', 'total believ', 'ann hech utterli convinc', 'sam shepard portray gung ho marin sober', 'sat rivet tv screen', 'give one resound', 'think tom hank good actor', 'enjoy read book children littl', 'disappoint movi', 'one charact total annoy voic give feel fingernail chalkboard', 'total unnecessari train roller coaster scene', 'absolut warmth charm scene charact', 'movi total grate nerv', 'perform not improv improvis actor twice much worri not whether deliv line well whether line good', 'quit honestli often not good', 'often dialogu realli follow one line anoth fit surround', 'crackl unpredict youth energi honestli found hard follow concentr meander badli', 'gener great thing', 'say worth hour time though', 'suspens builder good cross line g pg', 'especi like non clich choic parent movi could predict dialog verbatim write movi made better select', 'want movi not gross give chill great choic', 'alexand nevski great film', 'amaz film artist one import whoever live', 'glad pretenti piec plan dodg stratu big shot gonna help movi maker restrain movi busi qu bec', 'first movi given year', 'ever movi need word mouth promot', 'overal film interest thought provok', 'plu well pace suit rel short run time', 'give one look', 'gave', 'wind lion well written superbl act', 'true classic', 'actual turn pretti decent far b list horror suspens film go', 'definit worth check', 'problem script', 'horrend', 'noth believ', 'suspens feel frustrat retard girl', 'manna heaven terrif film predict unpredict time', 'scene often funni occasion touch charact evalu live go', 'cast veteran actor nostalgia trip', 'ursula burton portray nun touch funni time make fun nun church', 'look movi terrif cast good music includ shirley jone rendit way look tonight uplift end give one tri', 'think disappoint', 'frankli cotton club unfaith kind embarrass watch lane gere film bad', 'act bad dialog extrem shallow insincer', 'predict even chick flick', 'polit correct', 'disappoint', 'thing realli worth watch sceneri hous beauti', 'love lane never seen movi lousi', 'hour half wish could bring back', 'term write fresh bold', 'act help write along well mayb idiot savant sister could play better real joy watch', 'direct cinematographi quit good', 'movi bore sometim found occupi peak paper instead watch never happen columbo movi', 'sometim embarrass look away', 'direct seem pretenti', 'scene oh matur neighbour girl misplac', 'gener line plot weaker averag episod', 'scene debat whether not sack trumpet fals accus murder pure horror realli stupid', 'applaus given prelud howev', 'realli like', 'great film great director', 'movi edg seat made somewhat afraid go car end night', 'music film realli nice', 'advis anyon go see', 'brilliant', '', 'like movi way much', 'problem thought actor play villain low rent michael ironsid', 'rock world certainli must see anyon social physic outlet', 'howev make fact overal tremend bore movi', 'chemistri ben affleck sandra bullock film understand would consid even leav wife chick supposedli knock', 'sever moment movi need excruciatingli slow move', 'poor remak best friend wed', 'great disappoint', 'cannot believ actor agre film', 'could not stand even watch long fear lose q', 'guess nobodi network air dribbl watch put', 'imdb rate go low aw time get neg number case', 'saw mirrormask last night unsatisfactori experi', 'unfortun inexperi direct meant scene scene pass littl way dramat tension conflict', 'central theme film handl ineptli stereotyp depth imagin', 'pretti pictur world cannot make piec work flaw core', 'hour half wast time follow bunch pretti high schooler whine cri life', 'relat hell bare understand', 'definit cult classic well worth view share other', 'movi pure disast stori stupid edit worst seen confus incred', 'fish badli made underwat shot repeat thousand time film', 'truli truli bad film', 'act terribl write wors', 'possibl way movi could redeem would mst k fodder', 'paid much', 'also real treat see anthoni quinn play crazi hors', 'bore', 'plot whatsoev', 'plot', 'horribl', 'worst hour half life oh gosh', 'walk theatr minut get relief', 'hate movi like', 'yeah movi pretti much suck', 'plot storylin', 'go see movi bring pillow girlfriend boyfriend keep occupi', 'aw', 'think ever gone movi dislik much', 'good thing ticket cost five dollar would mad paid see crap', 'nobodi identifi charact cardboard cutout stereotyp predict revers stereotyp', 'bad film bad write good actor ugli cartoon craft paul haggi peopl handl anyth bold stroke storytel pictur paint crayon', 'crash depress littl noth provok emot teach noth alreadi know racism prejudic bad thing', 'still like movi empower women not enough movi like one', 'brain attempt shut part primal impuls self preserv', 'left shatter experi watch film took good two hour fulli recov', 'movi join reveng boogeyman zombiez part hellish triniti horror film', 'certainli not mean distinct good way', 'mean terribl way', 'film redeem featur', 'everyth appal', 'artless camera work endlessli present us ugliest set imagin e', 'stori beyond stupid', 'script script', 'kid annoy', 'lead man charisma free', 'utterli without merit level akin tortur', 'even say tortur', 'mayb would reason explan atroc', 'not pleasant voyag self discoveri', 'highli unrecommend', 'premis sound stupid', 'ye bad', 'noth recommend', 'excel perform ms', 'garbo show right bat talent could carri silent era want see silent work netflix seem stock', 'also great see renown silent screenwrit franc marion miss step go silent sound', 'movi suffer write need suspens', 'mani close up', 'movi seem drag hero realli work freedom', 'movi definit averag rent', 'love', 'movi bad', 'bad', 'film way long', 'definit one bad one', 'movi receiv great qualiti film age', 'john wayn incred job young movi industri', 'screen presenc shine thought even though senior actor screen', 'think must see older john wayn film', 'realli see anyon could enjoy movi', 'think ever seen movi half bore self indulg piec junk', 'probabl would better director spent movi showcas art work realli noteworthi', 'anoth thing realli like charact got punch face gallon blood would spew forth soon', 'jami foxx absolut ray charl', 'perform simpli geniu', 'own film spacek own coal miner daughter quaid own great ball fire', 'fact hard rememb part ray charl act not play man', 'ray charl legendari', 'ray charl life provid excel biograph materi film goe well beyond anoth movi musician', 'hitchcock great director', 'iron mostli find film total wast time watch', 'secondli hitchcock pretti much perfect thriller chase movi', 'pander audienc sabotag film', 'henc whole stori lack certain energi', 'plot simpli rumbl like machin desper depend addit new scene', 'usual hitchcock logic flaw', 'mishima extrem uninterest', 'chilli unremark movi author live work chilli abstrus cultur', 'flat reenact hold attent emot adrift stagi', 'rest sit aw soldier sing song masculin pledg hairsplit puriti admir sword etc', 'bore piec kill momentum movi quicker anyon els', 'schrader made resum full lousi amateurish film', 'first watch movi love', 'total fascin music danc everyth', 'howev recent watch whole thing dvd complet struck extrem stupid storylin contain hole inconsist frankli whole lot crap horrid danc', 'mean realist world would never gotten ballet repertori whole thing quit pathet', 'charact develop also lack depth', 'woa talk aw', 'not wast time', 'horribl', 'worst sappiest dialogu could go', 'realli made unwatch direct', 'poor actor', 'even tell talent not pathet line speak director gave action', 'check director filmographi site see film chanc', 'would not even good made tv flick', 'good intent made film great film might one greatest film ever made', 'film great actor master director signific theme least would signific theme underton fifti existenti world weari aerial scene ought thrill sens imagin charact one might deepli care', 'regrett film fail', 'movi lack visual interest drama express feel celebr patriot underlin narr', 'actress wors use june allison movi', 'yet enjoy watch', 'unfortun bad movi plain bad', 'bad script bad direct horribl act make one plain bad', 'dialogu suck', 'cinematographi call suck', 'soundtrack suck', 'act suck', 'concert sequenc suck', 'nice', 'funni', 'funni', 'overal movi cheap trash', 'movi not funni consid ridicul', 'came feel angri', 'spoiler whatev els said surfac superbl craft', 'cinematographi simpli stun say least fx noth not state art', 'conceptu show offer littl bit everyth everybodi parent kid fantasi fx fan', 'singl sour note struck act wise either surprisingli solid cast', 'thing consid job well done', 'thank good movi like done releas', 'one best mexican movi ever one less understood even mexican matter identifi felt', 'rank highli great noir crime drama incred perform belmondo lino ventura', 'attent given everi charact complex psycholog portray detail loyalti treacheri love hope tremend', 'excel drama excel thriller excel film', 'best melvil', 'everyth film simpli incred', 'truli take journey eye soul child', 'black water thriller manag complet transcend limit indi flick continu subvert expect emerg intens experi', 'perform real grip crocdodil extrem well done inde black water websit believ use real croc swamp locat fabul', 'thoroughli enjoy christoph eccleston took control tardi continu seri', 'not sure tri film', 'turn good day feel night disturb memori guess succeed', 'lot beauti place', 'forc like everyth movi', 'lame', 'movi realli pi ed', 'even get start jerki camerawork', 'saw theater thought go sick', 'summari wittic witti', 'plot well said let one go', 'act bad', 'realli bad', 'even billi bob rise script wors', 'camerawork bad', 'rate', 'amaz final possibl best trilog time', 'kieslowski never ceas amaz', 'one favourit director one talent director histori cinema', 'use colour french flag three film noth short incred everi shot everi scene like work art', 'three visual appeal movi ever seen', 'subtl connect three film awesom', 'mention huge spoiler love end charact three film remain survivor ferri disast valentin young judg togeth old man watch tv solidifi happi suffer dealt mani year', 'think better way end film smile face great way wrap amaz film trilog', 'recommend everyon love film movi anyth work art', 'movi trilog', 'liter vomit watch film', 'think one peopl found anoth one roth pearl', 'perform award stun', 'stori told eloqu franci ford coppola year earlier realli unfold gradual leav room charact develop', 'wonder locat lie stori contrast', 'beauti direct film nicola roeg wih sublim cast', 'translat movi live first movi year work experi found offens intellig', 'someon strive great poetri deliv muddl often ridicul stori bunch dispar scene pretenti dialogu get worst kind movi review accur defin pretenti crap', 'find movi intellig even master say intellig imagin obvious use tri make sens piti attempt human natur tri make sens thing', 'one thing toler polit incorrect well artist freedom suspens disbelief slavic femal charact much', 'fun funni movi', 'highli entertain angl', 'featur outlandish array memor psychot lovabl nut', 'enjoy get see run around play game danger', 'even sweet moment', 'telephon repair man realli funni reaction nut bitchi boss truli genuin', 'charact film tremend well play', 'realli find funni', 'actual smart movi', 'brilliant twist end', 'love', 'end perfect shed tear', 'thrill see movi like', 'never forget', 'not cult cult classic', 'depth charact man underneath', 'malta set dri barren dialogu', 'movi terribl', 'hockey scene terribl defensemen play like year old goali dive shot feet wide net etc', 'seen wast time', 'call movi drama ridicul', 'start watch believ charact', 'particular relationship bakeri assist waitress work', 'superfici movi gave feel watch play rather film', 'charact stagey storylin lot like stage farc', 'time pyromaniac waylaid assist bore care happen next switch', 'glad pay see', 'laugh even smile', 'anyth one big yawn', 'realli good show watch', 'educ children year old', 'barney definit super de duper', 'pretti funni', 'babi bop cute', 'kid cool', 'storm trooper not even bad enough make list wonder terribl movi', 'lame', 'guy said better dialogu pot plant right', 'everyth movi stupid', 'even love bad movi not watch movi', 'shame', 'would give televis seri plu could', 'writer smack think best actor actress bonu show charact real', 'must say tape episod find watch', 'know gave', 'know exactli movi latch endear movi becom special part famili memori', 'total absolut recommend movi anyon like good wholesom famili movi exactli', 'thing four kid get absolut hilari watch', 'one best movi show strong sibl bond', 'much interest action suspens less unneed controversi', 'everyth act cinematographi solid', 'definit worth check', 'damian talent versatil mani way write portray differ charact screen', 'movi cut edg', 'pleas know modern day geniu let passion art drive take us audienc', 'new charact memor found forget', 'felt though go ireland absolut noth whatsoev', 'make scare horrifi make sympathet toward charact simpli annoy', 'jerki camera movement also annoy', 'plot pretti much everi cheap horror', 'pathet attempt give charact depth realli work rest plot', 'guess suppos clever twist shed light situat stupid', 'see probabl leav shelf', 'elia kotea jack palanc play good role angelina hot get nake billi drago appear cool usual cameo sven ole thorsen help make enjoy movi good act decent budget', 'awesom movi bought ebay', 'realli love stori line poler bear kinda cute anyon question fort steel ask away', 'total unfunni movi top pathet unrealist throughout whole minut utter tortur probabl look watch time', 'luci bell much higher crap sink low quit depress', 'movi make sick watch slacker make excus stupid action minut', 'god never get minut back', 'think wonder part liter full wonder excerpt work', 'set especi design work camera amaz styliz beauti effect', 'could use exemplar set design', 'stori power explor natur man art', 'watch film want learn work artist', 'highli recommend movi anyon interest art poetri theater polit japanes histori', 'wind lion see wonder render america imperi age', 'make stori differ terrif product valu faultless photographi composit edit terrif cast underappreci brian keith play bulli teddi vivid histori', 'though wind lion told larg eye son everi member famili identifi one charact whether sean conneri nobl brigand candac bergen feisti heroin john huston wili john hay steve kanali spiffi radiant ruthless lieuten roosevelt big stick', 'high adventur best', 'think robert ryan best film portray someon like father schizophren real life father although never murder anyon affect second world war made wors', 'humour get get day apt', 'mother brother saw robert ryan portray type man good imit type individu impress', 'almost song cover girl old fashion not tune', 'annoy thing cover girl way rita hayworth put pedest', 'unfortun cover girl exampl hollywood use exploit women financi gain', 'non linear narrat thu mani flashback everi part articul quit well', 'good cinematographi also make monica bellucci look beauti', 'good commentari today love undoubtedli film worth see', 'peopl first timer film make think excel job', 'popular cinema good hous good reaction plenti laugh', 'feel good film felt came cinema', 'northern humour posit commun repres', 'rather enjoy', 'like', 'take serious', 'realli creat uniqu feel though', 'vivian schill excel job script', 'world better garbag theatr today', 'role play well', 'not screami not masculin right', 'camera realli like movi', 'would cast role readi script', 'european movi nice throwback time student experi live abroad interact nation although circumst slightli differ', 'fan movi suck realli bad', 'even wors ticker', 'movi bad', 'like build use coupl locat mayb poor hummh', 'blew', 'movi excel angel beauti scamp ador littl yelp he scare funniest part scamp caught curtain angel scamp sing ive never feel total recommend movi come special edit june cover scamp garbag angel underneath lid', 'cant explain movi romant charm hilari ador junkyard scene funni junkyard dog someth special funni laugh kid love buy come new featur', 'chosen tortur disgust piec blatant american propaganda', 'show made american stupid full hatr clich admit elsewher', 'almost everyon involv must return school act utterli predict bad script pile garbag round', 'wish could enter neg valu admin', 'set bad look place thunderbird episod', 'use slow motion needlessli repeat throughout movi well back bad act bad kind word continu scene thrown reason whatsoev vehicl look like made corn flake box directori style border stupid', 'oh yeah storylin pathet', 'hate write bad review film especi realli like star film bad believ one second anyon could proud', 'not filmmak director would hide head sand spent whatev amount money time movi', 'short monument wast time energi would not recommend anyon ever see film', 'came free dvd player bought still turn thing halfway embarrass howel', 'set', 'interest premis billi drago alway good danger nut bag side note love see drago stephen mchatti lanc hendrikson flick togeth talk rage cheekbon', 'soundtrack terribl either', 'act even profession drago debbi rochon terribl direct wors perhap contributori former dialog chimp like camera work bare toler', 'still set got big oy vey scale', 'ye simplifi thing sake breviti realli core problem film much go without real fulfil explan', 'good job quit amus', 'convolut plot convinc much film watch weird question glanc', 'let girlfriend talk see bad idea hate', 'last minut movi also not bad well', 'bela lugosi total extran inton odd line', 'act decid wooden though wors period univers b movi', 'like armand assant cabl compani summari sound interest watch twice alreadi probabl', 'believ screenwrit good job tie loos end', 'score mostli plot', 'say like spoiler want one believ film worth time', 'wow bad film', 'not frighten least bare comprehens', 'plot hang togeth act absolut appal', 'not even good camp valu', 'expect oscar materi', 'iq particularli stupid mollusk not see one come', 'film use word loos insult movi go public', 'someon involv knew string togeth narr', 'get simpli noth lower', 'one not watch recent fox movi channel disappoint', 'know contract player littl control script act bad script', 'victor mclaglen even bad brian donlevi almost unrecogniz', 'consid relat screen taylor stanwyck surpris littl chemistri screen two', 'premis film ridicul presid u', 'death row scene entir unmov', 'thing wors taylor act stanwyck sing', 'whatev produc go miss entir', 'deepli impress charact play', 'knew saw film great thing come gift actor', 'cheap cheerless heist movi poor characteris lot underbit style stoic emot think chow yun fat better tomorrow cheesi clich thrown abandon factori readi poorli execut fli judo roll la john woo', 'even squib look aw', 'point proceed look remot like america', 'plot deriv predict end like merci kill', 'aw dialogu hopeless overact everyon get shot top real wast space time', 'uneasi bad movi not scare', 'dialogu compos thing make littl sens', 'minut footag wast show mediocr elderli actor awkwardli babbl overwrought pseudo satan gibberish corni enough make teen goth blush almost alway old english sometim latin may may not made word', 'direct sloppi best', 'hackney write certainli made even wors bad direct', 'cours act blah', 'act whole cast could put scale balanc perfectli overact underact', 'final get end would great handl compet peopl not jerri falwel', 'love movi great portray famili share up end knew special love', 'seen mani movi star jaclyn smith god one best though came year ago', 'movi contain star cast love open eye see actor seen', 'movi kind long length enjoy everi minut', 'overal rate movi scale', 'lifetim not air enough anyon know store sell let know must', 'particularli rememb sens assault strident cord music would blare littl warn even less mean', 'sort pap screen afternoon punish unemploy not job', 'total differ load understat black comedi film get see rememb', 'movi creat univers fascin everi way', 'movi realli got', 'see', 'realli hope team behind movi make movi continu kinda weird style', 'forgot cast superb trond fausa aurv g perfect role bothersom man understand', 'movi good humor comment life', 'found move beauti enjoy uplift', 'initi local site film film buffalo intrigu', 'later found lost power film', 'entir audienc applaud conclus film', 'left theater lilt step joy heart hope human race', 'duri wholesom appear give fine perform', 'rest cast also play well', 'cinematographi noteworthi includ fine view barcelona fame gaudi tower', 'ten minut film start second thought', 'half way film start dislik', 'time film end not dislik despis', 'film lack convinc script', 'script look rough draft written shoot began finish script complet', 'thing happen charact person chang plot twist occur real reason script call', 'cast good', 'worth check', 'probabl irrit show ever seen entir life', 'indescrib annoy idiot show ever seen', 'everyth bad', 'could not understand kind idiot would produc mess first place not mention sever season', 'script bad bad contain cheesi uneth joke normal see rate r nc movi', 'cast also horribl caus see realli realli bad actor period', 'final word show real tortur', 'zillion time away realiti', 'watch wash machin twirl around hurt eye much show', 'rate grade z note show bad even mother cast pull daughter show', 'th centuri fox road hous not quit silli noir implaus unmitig bore movi', 'full unconvinc cardboard charact blandli written edward chodorov also produc surprisingli direct jean negulesco one would expect great deal', 'widmark charact turn unintent comic', 'lose marbl earli proceed total implaus unconvinc', 'enough mess movi pictur also mar constant use studio set indoor exterior', 'whatev prompt documentari beyond', 'seriou spoiler movi huge disappoint', 'mani problem dont know start', 'cast great', 'steve martin deliv realli funni perform middl age upper class uptight white guy', 'add betti white jean smart great cast everyon play part realli well', 'movi make lot seriou mistak', 'first enough racial stereotyp racial joke offend everyon', 'movi litter overt racial slur toward black cast member return white depict moron boob', 'put race card asid let look major flaw film destroy latifa charact', 'real plot', 'wouldnt see movi free', 'steamboat willi amazingli import film cinema histori', 'second appear mickey mous follow silent plane crazi earlier year probabl famou film mostli ground break', 'yet hear mickey speak ton sound effect music throughout film someth take grant huge crowd pleaser', 'howev see short year amaz timeless film actual', 'ador see mickey play turkey straw highli imagin occasion cruel way', 'clever real crowd pleaser film still rank among mickey best film even wonder year', 'bipolar ruthless thug one minut ruthless killer next minut luv diaper commerci complet unconvinc', 'terribl disappoint film would receiv mani award accolad especi far deserv work film', 'origin bodi soul masterpiec', 'john garfield ann rever lilli plmer william conrad canada lee film one greatest cinematograph ever grace screen jame wong howe', 'think redeem qualiti remak', 'may bad film ever made', 'bad well bad', 'movi solid exampl bad plot bad idea way', 'shame see good actor like thomerson jame make live mess like', 'thought bad', 'film terribl credit version watchabl', 'let start problem act especi lead professor bad', 'script big flaw mess', 'best exampl dumb write establish turn zombi student back human remov necklac contain piec meteorit', 'director paul matthew also wrote direct weak monster movi grim clearli know pace film', 'movi terribl bore place', 'light aw', 'film look cheap bland', 'one disappoint aspect lack notabl gore', 'convent never work well past certainli work', 'visual effect aw', 'cg open sequenc space look like could creat microsoft slideshow god sake', 'explos ga tank end aw', 'okay like consid fair critic give credit credit due creatur effect actual pretti cool', 'gotta love close up slimi drool teeth', 'sum film breeder terribl cheapli made horror movi avoid like ebola viru', 'not recommend', 'almost unbear watch screen littl charisma terribl comed time', 'asid terribl lead film load debit', 'understand suppos cheap popcorn comedi mean complet insult intellig write incred hackney border offens', 'lewi black consider talent wast incendiari unrestrain pg rate certainli allow', 'film sole bright spot jonah hill look almost unrecogniz fan recent superbad due amount weight lost interim', 'origin fresh first movi spent remak littl els offer', 'budget evid limit', 'reflect not cast also par script borrow much earlier classic', 'howev decent act action locat work balanc thing', 'filmi less expans', 'fail convey broad sweep landscap great part origin', 'gener lack imagin', 'not recommend', 'possibl movi get wors', 'plot keep go first place', 'even women final show sign improv expect thing happen time film might far asleep', 'bewar not trashi cult movi trash period', 'believ even sequel', 'precis give bad review', 'child truli enjoy show proudli say enjoy big time even classic wb cartoon', 'tini toon kept vibe deliv one popular funni underr cartoon ever creat', 'memori murki say enjoy everi singl episod product relat show', 'easili none cartoon made laugh tender way get dark sitcom orient teenag', 'charact funni peculiar not true lead charact', 'everi singl charact hilari deserv call lead', 'everi element stori top excess phoni contriv pain sit', 'line seem written fifteen year old though tri oh hard sound like fifteen year old would realli um know well talk', 'perabo nice energi level obvious comfort front camera', 'simpli excus someth poorli done', 'saw movi thought stupid movi', 'even stupid thought idea volcano lo angel', 'honest unbeliev nonsens foolish', 'conclus not bother movi volcano lo angel noth nonsens', 'stori line aw', 'pain', 'accent absolut abysm', 'also enough hypocrisi film make vomit', 'wast time watch rubbish non research film', 'believ pitch black done well', 'charact interest want find longer movi goe think peopl surpris make', 'go watch', 'omit watch', 'funni', 'rate', 'charact interest realli care', 'instant classic great soundtrack catchi song end credit', 'miss', 'master piec film make mani theme simmer occasion boil wart studi poet bohemian self indulg wartim year span aerial bombard london outward tranquil welsh coastal retreat borderlin friendship lust love dedic art experi versu practic concern jealousi rivalri cowardic egot versu heroism self sacrific', 'matur subtl script suggest occasion bring dramat focu underli tension well serv perfect perform apart odd inappropri smile keira knightley prone though perhap direct time charact often mention', 'exquisit visual composit moment invent eleg use close camera angl light includ pointillist faux home movi footag wonder joy behold', 'continu beauti look bertolucci relationship convinc narr engag master work', 'basic premis wast sinc sidelin inexplic focu documentari crew', 'regardless film fail level', 'avoid cost', 'saw film christma great film', 'thought errol flynn brilliant custer sinc becom favourit actor', 'act alongsid olivia de havilland brilliant end fantast', 'alway known errol flynn brilliant actor dad favourit actor grew watch film child', 'watch film realis great actual', 'give film', 'know jim connor energet nobodi could much georg well dull', 'realli seem want host voic over monoton get involv guest', 'love littl thriller hitchcock lot nice shenanigan surround murder spi kidnap child nasti church foreign plot random taxidermist', 'jimmi stewart ever great hero hitchcock stori rip along cool climax embassi function lack brood menac hitchcock black white low budget origin', 'nevertheless yet anoth wonder film great master stabl', 'say film excel produc top rate typic sci fi film', 'excel produc one sci fi best produc scot vandiv', 'entertain nonetheless', 'campi sort film joy watch', 'bare bore moment film plenti humor part', 'cast alway entertain usual', 'overal delight', 'movi mind bendingli aw even creat', 'film lack real scare tension medic terminolog use throughout bit iffi say least say insulin depend diabet', 'least said act better', 'movi excel job reveal complex task incred challeng face south africa', 'believ everi one see movi think peopl outsid south africa understand past attempt truth reconcili process', 'noth short magnific photographi cinematographi film', 'act fantast stori seamlessli woven togeth dog splendid must rent view see', 'afraid subtitl worth littl avers therapi', 'excel perform', 'still good actor around', 'also great direct photographi', 'true shakespear must shakespear fan', 'macbeth jason conneri move tear final monolog brief candl gave sphere moral decay dark forc human face make interest', 'helen baxendal credibl ladi macbeth cheerful time sometim look like naughti girl deadli tast blood evil', 'love death decay shakespear lyric one', 'witti delight adapt dr seuss book brilliantli anim upa finest thoroughli deserv academi award', 'special mention made superb music score sound effect integr element help make memor enjoy cartoon', 'howev paul schrader inde made film mishima superb complex', 'also notabl john bailey fine crisp beauti color cinematographi great product design costum eiko ishioka went memor costum coppola dracula receiv well deserv oscar', 'even allow poor product valu time format kind mini seri baaaaaad', 'unless visual collect extant film austen work skip one', 'watch howev small consol actress play ann sister wonder job role', 'not good', 'speak music unbear predict kitchi', 'film drop ball', 'stun movi', 'raw sublim move', 'felt like grip intellig stage play without overli theatric feel one actual get watch peopl stage play everyon terror white lie escal monstrou consequ', 'main player mesmeris', 'tom wilkinson broke heart end everyon els judg amount fumbl hanki hand go face among male femal alik', 'julian fellow triumph', 'nation treasur', 'go see', 'excel film', 'aerial scene well done', 'also right balanc war love', 'film give mean phrase never histori human conflict much owe mani', 'kri kristoffersen good movi realli make differ', 'good film great director', 'definit one better documentari seen look famili relationship marriag', 'mani continu error one user comment differ car garag joe glass one got fact joe facial hair configur seem chang scene scene', 'great movi', 'star', 'see movi inspir anyon come overcom fear reject', 'bad actual worth see reason', 'punish park brilliant piec cinema', 'shot southern california desert use patent faux documentari style watkin creat film like', 'one peter watkin access film', 'advis look', 'wont regret', 'highli recommend', 'well keep think bad', 'mediocr miser hollow laughabl predict piec garbag', 'case bad laughabl', 'bad perform play angela bennett comput expert home time', 'film noth pretext show ridicul action scene', 'aw', 'still bad actress repeat robot face move pictur', 'result well shame', 'delet film mind', 'one worst show time', 'show would begin smart ass ed comment would total wall uncal', 'fat comput geek unbeliev bibl thumper bad ass girl actor', 'never heard except cole total unbeliev part', 'everi time open mouth expect hear see kid pull plug merci kill horribl show', 'stori unbeliev actor', 'lame would best way describ', 'stanwyck morgan perfectli cast mani way modern equival dicken christma carol sensibl', 'success film depend cast sydney greenstreet alexand yardley charact', 'attract set use throughout film eye pleas gem', 'im big fan rpg game movi disgrac self respect rpger', 'line cut audio everyth wrong', 'find better movi youtub', 'top line wast time money one bad come', 'lassi movi put sleep forev', 'describ pain dreari time waster film', 'mediocr everi aspect becom dull uninterest mess one forgett movi seen', 'even achiev bad good bad memor movi', 'empti hollow shell movi', 'serious not worth wast kid time', 'avoid avoid avoid', 'drive bark mad', 'transfer good', 'nice relax late night view', 'movi full wonder danc henc titl', 'great music terrif sceneri', 'handl tough issu digniti grace cours shock spoiler', 'happi wonder feel good end', 'point journey journey touch everi member famili', 'one movi need see whenev come tv never mind fact alreadi memor', 'noth new', 'done second movi', 'movi almost action scene littl comedi', 'plot hole pair fishnet stock direct edit astonishingli ham fist', 'earth iron film', 'saw film recommend', 'good plot hold complet attent act superb tom wilkinson fantast emili watson also good', 'good film inde great uncondit love', 'tom wilkinson charact man not prepar ordeal begin take matter hand stori progress great actor give perform make feel charact anguish suffer', 'emili watson charact strong give quick glanc understand everyth', 'despit pan review like movi', 'fact like better interview vampir like lestat stuart townsend better cruis attempt', 'aailiyah pretti good akasha place compel first entranc mini danc scene', 'big fan seri mostli due ann rice style sensit treatment', 'guess like detail dysfunct believ', 'footbal scene end perplex', 'thought act skill', 'meredith better right', 'charm film wonder sentiment heart', 'rare film maker take time tell worthi moral tale care love fall trap overli syrupi indulg', 'nine ten truli love film', 'earli film futur goremeist lucio fulci good addit giallo sub genr', 'one best italian thriller earli', 'standout scene', 'scene strong unpleas', 'technic film well made impress camera work solid act effect music riz ortolani particularli good recur unaccompani femal vocal sound like come distant hill', 'still wild stuff though highli recommend fan giallo cinema', 'movi interest begin end', 'like way dustin hoffman charact readi everyth stay son', 'movi also reveal', 'person think show peopl learn find compromis self without involv peopl issu', 'bore', 'tire clich lazi write come thick fast', 'ps scene movi cool central charact find room blown', 'fresh subtl rather sublim effect', 'italian review call small great film right', 'actor give wonder perform especi jennif rubin jami harri chang nervou starlet begin strang event part cool star', 'learn lot real insid emot peopl movi lot movi busi', 'movi movi situat begin game play act coach fascin', 'also music mark snow possibl best score ever heard', 'forget movi', 'film made', 'film ultra cheap look', 'result film look right', 'none engag excit', 'plot nonsens interest slightest way uniqu', 'foreign not worth one second time', 'saw child tv back stranger love', 'duet astronaut doctor begin movi perfect exchang one consid movi made well cold war astronaut biggest fear crash ussr', 'movi awesom', 'love realli scari', 'love scream movi horror movi one rank way', 'want real scare rent one', '', 'extraordinari film', 'courtroom drama compel indict american justic system frighten', 'film highlight fundament flaw legal process not discov guilt innoc rather present better court', 'film well pace underst one best courtroom documentari seen', 'mostli routin fact base tv drama get boost fine perform cole', 'predict not bad watch', 'clear rang abil pull part', 'carri movi well', 'constantin give everyth right intens seem good understand underli psycholog motiv', 'wonder inspir watch hope get releas video dvd', 'piec trash ever releas beyond act stori charact supposedli special effect etc wrong', 'fact stinker smell like direct video releas', 'avoid cost', 'star trek v final frontier worst seri', 'act involv includ like shatner nimoy bad wash make seem old look real life special effect tacki like spock rescu kirk jet pack fall mountain', 'attempt humor piti stori aw dosen bear think basic involv vulcan steal enterpris find god serious care film oh not mention uhura belli danc distract male guard', 'place good film garbag', 'worst one seri', 'edit edit film phenomen opinion', 'song could explain emot subject better jay adam unfortun life subject talk song old man neil young play evok mani emot', 'cinematographi film shot interest way', 'cours footag graini enhanc film', 'film offer mani delight surpris', 'achil philippa beauti sing duet giovanni perfectli describ situat movi appreci subtl layer excel film', 'stori unfold th centuri jutland use period music play period instrument one fine touch', 'share gener loewenhielm exquisit joy partak caill en sarcophag even though watch movi wish small sampl savor', 'underst film leav last impress', 'warmth gener contrast auster backdrop', 'leav theater want go danc star', 'act expect cast top notch', 'charact flesh surprisingli well particularli grime blake actor deliv sharpli script line right amount deadpan tongu cheek make dialogu hilari realist', 'angu scrimm also turn good perform somewhat brief memor role gentli menac violin play anatomist doctor quinn', 'conclus love', 'long time sinc entertain movi', 'struggl find anyth bad say', 'mark word one cult film like evil dead phantasm peopl still discov fall love year line', 'pretti surpris wonder film made hollywood gener collect head sand concern black white issu time', 'film deserv strong kudo take stand except act mostli lesser known cast super intellig script insult audienc take easi way come white racism', 'plu movi rather modest budget fast run time amaz job', 'juano hernandez except actor play support role mani film era proud black man accus murder white man south', 'trumbul love luci', 'see kid chanc open amaz dialog far race relat come last year', 'see film', 'year howev remind us huston still top game evinc faith adapt jame joyc acclaim novella dead', 'feel thought gabriel discomfort danc intang leap life come within viewer grasp huston portray', 'disappoint wonder could oscar shortlist', 'slow', 'lot hole plot noth becam emperor noth spend year childhood matur age', 'wast time', 'end day one worst big budget action movi ever seen', 'sure know make coher action movi screenwrit air forc one oblig write script big sum money', 'one worst film ever seen', 'still tri get bad', 'movi possibl one creativ work horror ever', 'everyth could want suspens drama comedi confus subplot nativ american brain eat look end brainsuck movi look', 'great sound effect impress special effect recommend movi enough', 'call nut think one best movi ever', 'great charact actor telli savala peter boyl', 'hour minut sheer tedium melodrama horribl act mess script sink feel good lord think', 'lot hole script', 'like bad two hour tv movi', 'imagin everi singl one decis made wrong', 'dialogu atroci', 'act beyond abysm', 'everyth stink', 'troubl write direct make imposs establish thing make movi watchabl like charact stori theme', 'wors incred weak sub plot thrown follow littl band latter day mansonit go report work stori anniversari kill', 'dumb pointless complet wast time', 'short bother movi', 'spoil end pretti amaz', 'best scene movi end spoil', 'ever indic writer director abil meld two highli volatil tempera seamless union creativ', 'result powerhous achiev made time perhap cultur disturb fascin celebr distort interpret fame', 'film not easili forgotten', 'kevin spacey excel verbal tsunami buddi ackerman total believ great actor', 'script subtl comedi unmatch movi recent year', 'charact interest even bit predict', 'highli recommend age although younger set probabl not appreci subtl refer certainli appreci one galley scene particular', 'great movi', 'also stori act weak', 'around pm bought around pm start watch around pm fast forward remain film see anyth left watchabl human brain', 'either way suck', 'script horrend stupid', 'stori start fast absolut suspens build slightest', 'everyth captain howdi say either laughabl plain stupid', 'hell kind crap', 'plot hole', 'could drive semi truck hole', 'linda cardellini thing good film', 'pois amaz', 'dee snider plain suck', 'act one least scari villain ever seen write write damn movi sleep', 'bore throughout whole damn thing', 'act suck music suck script suck pace suck special fx suck direct suck basic movi suck', 'film tri seriou sophist thriller horror flick fail miser', 'probabl one least effect utterli unorigin film ever seen entir life', 'piec cinemat garbag captur celluloid', 'avoid cost', 'rate film stink not funni fulci stay giallo supernatur zombi movi', 'avoid film cost', 'know happen season five mess', 'consist thread hold seri togeth amaz perform leni parker anita laselva two taelon quiet idealog conflict', 'movi realli dislik', 'one bore horror movi mainli start slow center bore atmospher', 'puppet look realli cheesi not good way like puppet master flick', 'stori lame not interest never realli explain sinist origin puppet', 'death scene like previou movi f x terribl', 'felt asleep first time watch recommend insomniac', 'fact film wonder heartwarm tale two peopl chase dream', 'best part nurs betti unpredict', 'director neil labut use brutal violenc seper dream realiti along touch drama hilari comedi never tell go happen next', 'otherwis even wast time', 'one fail creat real suspens', 'killer expect anyth origin even remot frighten', 'howev pretti good act least type film', 'sorri realli recommend anyon', 'one bore pointless movi ever seen', 'secondari plot line incomprehens relat primari plot line mystifi', 'hate', 'one worst sandra bullock movi sinc speed not quit bad', 'understand garbag got shelv movi store not even real movi', 'highli doubt anyon could ever like trash', 'not movi make', 'act like watch wooden puppet move around read book bad', 'warn not rent movi dumbest thing never seen', 'saw short film hbo day absolut love', 'realiz wonder short realli last two scene', 'excel short film', 'hope director jame cox turn short featur length film cast win us whole new film', 'agre jessica movi pretti bad', 'charact one dimension even good guy especi bad guy', 'stori line total predict', 'not much dialogu not much music whole film shot elabor aesthet like sculptur', 'seen soap opera intellig movi', 'bad charact bad stori bad act', 'realli aw', 'not easi watch', 'funni clever hip like pray previou film hype', 'long time see charismat actor screen', 'paolo sorrentino written wonder stori loneli toni built one unforgett charact seen movi recent year', 'movi not complet perfect titta di girolamo stay long time vision movi', 'rate movi', 'not know emilio estevez directori debut pace interplay develop charact well clever camera work surround charact estevez play suggest natur eye', 'interplay martin emilio contain wonder chemistri saw wall street martin charli', 'kathi bate wonder charact subtl desper escap variat charact play field lord', 'reader alreadi seen one miyazaki film still top form made anoth worthwhil experi', 'never condescend charact good genuin heart believ problem', 'two main charact may two believ children ever saw put screen', 'easi love even easi identifi', 'movi great especi enjoy visual art', 'sceneri two daughter paint photograph beauti', 'stori also funni poignant time', 'peopl like european film art movi like movi', 'truli art movi actual lot art', 'go rent', 'howev final watch film realiz not close mind brillianc depict also found watch', 'one movi never ceas interest simpli keep alert tri attempt deciph mean', 'brillianc inde', 'like movi like matrix better yet sequel think appreci thought provok mindblow experi film give', 'think film like dream', 'simpli beauti', 'rickman stow play role hilt tale children book writer mayb written subvers tract', 'glorious fun fast pace fairli accur portray night raver', 'present idyl yet seriou portray up down charact live', 'whatev avoid groov antithesi good human traffic', 'bad everyon els involv share crow level dedic qualiti far better film hand sub par mess', 'movi seem littl slow first', 'pick speed got right point', 'show exactli govern scientist argu human reason gadget', 'enjoy', 'recommend friend', 'particularli pleas act abil dwight schultz', 'actor truli understand becom particular charact deliv convinc sincer perform', 'screen chemistri critic entir film genuin', 'film dialogu natur real life', 'writer gorman bechard undoubtedli homework refer industri charact age appropri', 'incred soundtrack truli captur essenc film', 'track command sentiment actual contribut scene charact', 'definit worth see sort thought provok film forc question threshold loneli', 'hayao miyazaki latest eighth film studio ghibili gake ue ponyo ponyo cliff sea wonder fun imagin look childhood', 'time seem film anim domin disney pixar cgi masterpiec refresh comfort know miyazaki still reli tradit hand drawn anim tell charm enchant stori', 'enough not said remark anim film', 'art style appear crayon pencil draw wonder color fanci', 'act film glad gonna drift away earth far possibl', 'one want surf small wave space movi deep impact armageddon one fail everywher', 'choke vomit end cheap drama worthless dialogu must bore death wast time', 'still make super end depict great sea vessel taken mighti frost', 'consid excel stori solid act look film ad bonus', 'instead got bore fest whini spoil brat babysit', 'watch two sunday ago march th began realli enjoy time tape entir thing', 'well act done tv movi', 'judith light one favorit actress think superb job film', 'keep watch', 'sad movi good', 'not seen movi definit recommend', 'love usual cuti', 'still quit interest entertain follow', 'recommend confid', 'movi well balanc comedi drama thoroughli enjoy', 'riot see hugo weav play sex obsess gay real estat salesman use client hous tryst flame darren tom holland', 'anyway plot flow smoothli male bond scene hoot', 'open sequenc gem classic cat n mous game follow delight watch', 'fan genr heaven', 'lang becom great actress', 'look like wonder stori', 'never walk movi faster', 'got bore watch jessic lang take cloth', 'unfortun virtu film product work lost regrett script', 'word embarrass', 'except bad', 'insult one intellig huge wast money']\n"
     ]
    }
   ],
   "source": [
    "print(corpus)"
   ]
  },
  {
   "cell_type": "markdown",
   "metadata": {},
   "source": [
    "## Creating the Bags of Words Model"
   ]
  },
  {
   "cell_type": "code",
   "execution_count": 10,
   "metadata": {},
   "outputs": [],
   "source": [
    "from sklearn.feature_extraction.text import CountVectorizer\n",
    "cv = CountVectorizer(max_features = 2300)\n",
    "X = cv.fit_transform(corpus).toarray()\n",
    "y = df.iloc[:, -1].values"
   ]
  },
  {
   "cell_type": "code",
   "execution_count": 11,
   "metadata": {},
   "outputs": [
    {
     "data": {
      "text/plain": [
       "2300"
      ]
     },
     "execution_count": 11,
     "metadata": {},
     "output_type": "execute_result"
    }
   ],
   "source": [
    "len(X[0])"
   ]
  },
  {
   "cell_type": "code",
   "execution_count": 12,
   "metadata": {},
   "outputs": [
    {
     "name": "stdout",
     "output_type": "stream",
     "text": [
      "[0 0 0 0 1 0 0 1 0 1 1 1 1 1 1 0 1 1 1 1 1 1 1 1 1 0 0 1 1 1 1 1 1 1 0 1 1\n",
      " 1 1 0 0 0 0 0 0 0 0 0 0 1 1 1 1 0 0 0 1 1 1 1 1 1 1 1 0 0 0 0 0 0 0 0 0 1\n",
      " 0 1 1 1 1 1 0 1 1 1 1 1 1 1 1 1 1 0 0 0 0 1 1 1 1 1 1 0 0 0 0 0 1 0 0 1 1\n",
      " 0 0 0 0 0 0 0 1 1 1 1 1 1 1 1 1 0 1 0 0 0 0 0 0 0 0 0 0 0 0 0 0 0 1 0 0 0\n",
      " 0 0 0 1 0 0 0 0 0 0 0 0 0 0 0 0 0 0 0 0 1 0 0 0 0 0 0 0 0 0 0 0 0 0 0 0 0\n",
      " 0 0 0 0 1 1 1 0 0 0 0 1 0 0 0 0 1 1 1 1 0 0 0 0 1 1 1 1 1 1 1 0 1 0 0 0 0\n",
      " 0 0 0 0 0 0 1 1 0 0 0 0 0 0 0 0 0 0 0 0 1 1 0 0 0 1 0 0 0 0 0 0 0 1 1 1 0\n",
      " 0 0 1 1 1 1 1 1 1 1 1 1 1 1 1 1 1 1 0 0 1 0 0 0 0 0 0 0 0 0 0 0 0 1 1 1 1\n",
      " 1 1 1 1 1 1 0 1 1 1 1 1 0 0 0 0 1 1 1 1 1 1 1 1 1 1 1 1 1 1 1 0 0 0 0 0 0\n",
      " 0 0 0 0 0 0 0 0 1 1 1 1 1 1 0 0 0 0 0 0 1 1 1 1 1 1 1 1 1 1 1 1 1 1 0 0 0\n",
      " 0 0 0 0 0 1 1 1 0 0 0 0 1 1 1 1 1 1 1 1 1 1 1 1 1 0 0 0 1 1 1 1 1 1 1 1 1\n",
      " 0 1 1 1 1 1 1 1 1 0 0 0 0 0 1 1 0 0 0 0 0 0 0 0 0 0 0 0 1 1 0 1 0 1 0 0 1\n",
      " 0 0 1 1 1 1 0 0 0 0 0 0 0 0 0 0 0 0 0 0 0 0 0 1 1 0 0 0 0 0 0 0 0 0 0 0 0\n",
      " 0 1 1 1 1 1 1 0 0 1 1 1 1 1 1 1 1 1 1 1 1 1 1 1 0 0 0 0 0 0 1 1 0 0 0 0 0\n",
      " 0 0 0 0 0 0 0 0 0 0 0 0 0 1 1 1 0 0 0 0 0 0 1 1 1 1 1 1 0 0 1 1 0 0 0 0 0\n",
      " 0 0 0 0 0 0 0 0 0 0 0 0 0 0 1 1 0 0 0 0 0 0 1 0 0 0 0 0 0 0 0 0 0 0 0 0 0\n",
      " 1 1 1 1 1 1 0 0 1 0 0 0 0 0 0 0 0 0 0 1 1 1 0 1 0 1 1 1 1 1 1 1 0 0 0 1 1\n",
      " 1 1 1 1 0 0 1 1 1 1 1 1 1 1 1 1 0 0 0 1 1 1 1 1 1 1 1 1 1 1 1 1 1 1 1 0 0\n",
      " 1 0 0 0 1 1 1 1 1 1 1 1 1 1 1 1 1 1 1 0 1 1 0 0 1 1 1 1 1 1 0 0 0 0 0 0 0\n",
      " 0 0 0 0 0 0 0 0 0 1 1 1 0 0 0 0 0 0 0 0 0 0 0 0 1 1 1 1 1 1 1 1 0 0 0 0 0\n",
      " 1 1 1 1 1 1 1 1 1 1 0 1 1 1 1 1 1 1 1 0 1 1 1 1 1 1 0 0 1 1 1 1 1 1 1 1 0\n",
      " 0 0 0 0 0 1 1 1 1 1 1 1 1 1 1 1 1 1 1 1 1 1 0 0 0 0 0 0 0 0 1 1 1 1 1 1 1\n",
      " 1 1 1 1 1 1 1 1 1 1 1 1 1 1 1 1 1 1 1 1 0 0 0 0 0 0 0 0 1 1 1 1 1 0 0 0 0\n",
      " 0 0 0 0 0 0 0 1 1 1 1 1 1 1 1 1 1 0 0 0 0 0 0 0 0 0 1 1 0 0 0 0 0 0 0 0 0\n",
      " 0 0 0 0 0 0 0 0 0 1 1 1 0 0 0 1 0 0 0 0 0 0 0 0 0 0 1 1 1 1 0 0 0 1 0 0 0\n",
      " 0 1 1 1 1 1 1 1 1 1 1 1 1 1 1 1 1 1 1 1 1 1 1 1 1 1 1 1 0 0 0 1 1 1 1 1 1\n",
      " 1 1 1 1 1 1 1 1 1 1 0 0 0 1 1 0 1 1 1 1 1 1 1 1 1 1 1 1 1 1 1 1 0 0 0 0 0\n",
      " 0]\n"
     ]
    }
   ],
   "source": [
    "print(y)"
   ]
  },
  {
   "cell_type": "markdown",
   "metadata": {},
   "source": [
    "## Split the dataset into Training set and Test set"
   ]
  },
  {
   "cell_type": "code",
   "execution_count": 13,
   "metadata": {},
   "outputs": [],
   "source": [
    "from sklearn.model_selection import train_test_split\n",
    "X_train, X_test, y_train, y_test = train_test_split(X, y, test_size = 0.2, random_state = 0)"
   ]
  },
  {
   "cell_type": "markdown",
   "metadata": {},
   "source": [
    "## Train theLogistic Regression Model on the Training set"
   ]
  },
  {
   "cell_type": "code",
   "execution_count": 14,
   "metadata": {},
   "outputs": [
    {
     "data": {
      "text/plain": [
       "LogisticRegression(random_state=0)"
      ]
     },
     "execution_count": 14,
     "metadata": {},
     "output_type": "execute_result"
    }
   ],
   "source": [
    "from sklearn.linear_model import LogisticRegression\n",
    "classifier = LogisticRegression(random_state = 0)\n",
    "classifier.fit(X_train, y_train)"
   ]
  },
  {
   "cell_type": "markdown",
   "metadata": {},
   "source": [
    "## Predicting the Test Results"
   ]
  },
  {
   "cell_type": "code",
   "execution_count": 15,
   "metadata": {},
   "outputs": [
    {
     "name": "stdout",
     "output_type": "stream",
     "text": [
      "[[1 1]\n",
      " [1 1]\n",
      " [1 1]\n",
      " [0 0]\n",
      " [1 1]\n",
      " [1 1]\n",
      " [1 1]\n",
      " [0 0]\n",
      " [1 1]\n",
      " [0 0]\n",
      " [1 1]\n",
      " [0 0]\n",
      " [1 1]\n",
      " [0 0]\n",
      " [0 0]\n",
      " [1 0]\n",
      " [0 0]\n",
      " [0 0]\n",
      " [1 1]\n",
      " [1 1]\n",
      " [0 1]\n",
      " [1 0]\n",
      " [0 0]\n",
      " [1 0]\n",
      " [0 0]\n",
      " [0 1]\n",
      " [1 0]\n",
      " [0 0]\n",
      " [1 1]\n",
      " [0 0]\n",
      " [0 1]\n",
      " [0 0]\n",
      " [0 0]\n",
      " [0 1]\n",
      " [0 1]\n",
      " [1 0]\n",
      " [0 1]\n",
      " [1 1]\n",
      " [0 0]\n",
      " [0 1]\n",
      " [0 0]\n",
      " [0 0]\n",
      " [1 1]\n",
      " [0 0]\n",
      " [0 0]\n",
      " [1 1]\n",
      " [0 1]\n",
      " [0 0]\n",
      " [0 1]\n",
      " [0 0]\n",
      " [0 0]\n",
      " [0 1]\n",
      " [0 1]\n",
      " [0 0]\n",
      " [0 1]\n",
      " [0 0]\n",
      " [1 1]\n",
      " [1 1]\n",
      " [1 1]\n",
      " [1 1]\n",
      " [1 1]\n",
      " [1 1]\n",
      " [0 0]\n",
      " [1 1]\n",
      " [0 1]\n",
      " [1 1]\n",
      " [1 1]\n",
      " [1 1]\n",
      " [0 0]\n",
      " [0 0]\n",
      " [0 0]\n",
      " [1 1]\n",
      " [1 1]\n",
      " [1 1]\n",
      " [1 1]\n",
      " [0 1]\n",
      " [1 1]\n",
      " [1 1]\n",
      " [1 0]\n",
      " [1 1]\n",
      " [0 1]\n",
      " [1 0]\n",
      " [1 1]\n",
      " [1 1]\n",
      " [0 0]\n",
      " [0 1]\n",
      " [0 0]\n",
      " [1 1]\n",
      " [1 1]\n",
      " [0 0]\n",
      " [0 0]\n",
      " [0 1]\n",
      " [0 0]\n",
      " [1 1]\n",
      " [1 1]\n",
      " [1 1]\n",
      " [0 0]\n",
      " [0 0]\n",
      " [1 0]\n",
      " [1 1]\n",
      " [1 1]\n",
      " [0 0]\n",
      " [0 0]\n",
      " [0 0]\n",
      " [1 1]\n",
      " [1 1]\n",
      " [1 1]\n",
      " [1 1]\n",
      " [1 1]\n",
      " [1 1]\n",
      " [1 1]\n",
      " [1 0]\n",
      " [1 0]\n",
      " [0 0]\n",
      " [1 1]\n",
      " [1 1]\n",
      " [1 1]\n",
      " [1 1]\n",
      " [1 0]\n",
      " [0 0]\n",
      " [0 0]\n",
      " [1 0]\n",
      " [1 1]\n",
      " [1 1]\n",
      " [1 1]\n",
      " [1 1]\n",
      " [0 0]\n",
      " [0 0]\n",
      " [1 1]\n",
      " [0 0]\n",
      " [1 1]\n",
      " [1 1]\n",
      " [1 1]\n",
      " [1 1]\n",
      " [1 1]\n",
      " [0 0]\n",
      " [1 1]\n",
      " [0 0]\n",
      " [0 0]\n",
      " [0 0]\n",
      " [0 0]\n",
      " [1 1]\n",
      " [0 0]\n",
      " [0 0]\n",
      " [1 0]\n",
      " [0 0]\n",
      " [0 1]\n",
      " [0 0]\n",
      " [0 0]\n",
      " [0 0]\n",
      " [1 1]\n",
      " [1 1]\n",
      " [1 1]\n",
      " [1 1]\n",
      " [1 1]\n",
      " [1 1]\n",
      " [0 0]\n",
      " [1 1]\n",
      " [1 1]\n",
      " [1 1]\n",
      " [1 0]\n",
      " [1 1]\n",
      " [1 0]\n",
      " [1 1]\n",
      " [1 1]\n",
      " [0 0]\n",
      " [1 1]\n",
      " [1 1]\n",
      " [0 0]\n",
      " [0 0]\n",
      " [1 1]\n",
      " [0 1]\n",
      " [0 0]\n",
      " [1 1]\n",
      " [0 1]\n",
      " [0 1]\n",
      " [1 0]\n",
      " [1 1]\n",
      " [0 0]\n",
      " [1 1]\n",
      " [0 0]\n",
      " [0 0]\n",
      " [1 1]\n",
      " [1 1]\n",
      " [0 1]\n",
      " [0 0]\n",
      " [1 0]\n",
      " [0 0]\n",
      " [1 1]\n",
      " [1 1]\n",
      " [0 0]\n",
      " [1 1]\n",
      " [1 1]\n",
      " [0 0]\n",
      " [1 1]\n",
      " [1 1]\n",
      " [0 0]\n",
      " [1 1]\n",
      " [1 1]\n",
      " [0 0]]\n"
     ]
    }
   ],
   "source": [
    "y_pred = classifier.predict(X_test)\n",
    "print(np.concatenate((y_pred.reshape(len(y_pred),1), y_test.reshape(len(y_test),1)),1))"
   ]
  },
  {
   "cell_type": "markdown",
   "metadata": {},
   "source": [
    "## Making the Confusion Matrix"
   ]
  },
  {
   "cell_type": "code",
   "execution_count": 16,
   "metadata": {},
   "outputs": [
    {
     "name": "stdout",
     "output_type": "stream",
     "text": [
      "[[69 17]\n",
      " [22 92]]\n"
     ]
    },
    {
     "data": {
      "text/plain": [
       "0.805"
      ]
     },
     "execution_count": 16,
     "metadata": {},
     "output_type": "execute_result"
    }
   ],
   "source": [
    "from sklearn.metrics import confusion_matrix, accuracy_score\n",
    "cm = confusion_matrix(y_test, y_pred)\n",
    "print(cm)\n",
    "accuracy_score(y_test, y_pred)"
   ]
  },
  {
   "cell_type": "code",
   "execution_count": 17,
   "metadata": {},
   "outputs": [
    {
     "name": "stdout",
     "output_type": "stream",
     "text": [
      "[[0 0 0 ... 0 0 0]\n",
      " [0 0 0 ... 0 0 0]\n",
      " [0 0 0 ... 0 0 0]\n",
      " ...\n",
      " [0 0 0 ... 0 0 0]\n",
      " [0 0 0 ... 0 0 0]\n",
      " [0 0 0 ... 0 0 0]]\n"
     ]
    }
   ],
   "source": [
    "print(X_test)"
   ]
  },
  {
   "cell_type": "markdown",
   "metadata": {},
   "source": [
    "## Classification Reports"
   ]
  },
  {
   "cell_type": "code",
   "execution_count": 18,
   "metadata": {},
   "outputs": [
    {
     "name": "stdout",
     "output_type": "stream",
     "text": [
      "              precision    recall  f1-score   support\n",
      "\n",
      "           0       0.76      0.80      0.78        86\n",
      "           1       0.84      0.81      0.83       114\n",
      "\n",
      "    accuracy                           0.81       200\n",
      "   macro avg       0.80      0.80      0.80       200\n",
      "weighted avg       0.81      0.81      0.81       200\n",
      "\n"
     ]
    }
   ],
   "source": [
    "from sklearn.metrics import classification_report\n",
    "print(classification_report(y_test, y_pred))"
   ]
  },
  {
   "cell_type": "markdown",
   "metadata": {},
   "source": [
    "## Predictin if a single preview is positive or negative\n",
    "\n",
    "\n",
    "### positive preview\n",
    "\n",
    "###  I Loved the casting of Jimmy Buffet"
   ]
  },
  {
   "cell_type": "code",
   "execution_count": 19,
   "metadata": {},
   "outputs": [
    {
     "name": "stdout",
     "output_type": "stream",
     "text": [
      "[1]\n"
     ]
    }
   ],
   "source": [
    "new_review = \"I Saw the movie today and thought it was a good one\"\n",
    "new_review = re.sub('[^a-zA-Z]', ' ', new_review)\n",
    "new_review = new_review.lower()\n",
    "new_review = new_review.split()\n",
    "ps = PorterStemmer()\n",
    "all_stopwords = stopwords.words('english')\n",
    "all_stopwords.remove('not')\n",
    "new_review = [ps.stem(word) for word in new_review if not word in set(all_stopwords)]\n",
    "new_review = ' '.join(new_review)\n",
    "new_corpus = [new_review]\n",
    "new_X_test = cv.transform(new_corpus).toarray()\n",
    "new_y_pred = classifier.predict(new_X_test)\n",
    "print(new_y_pred)"
   ]
  },
  {
   "cell_type": "markdown",
   "metadata": {},
   "source": [
    "### Negative Preview"
   ]
  },
  {
   "cell_type": "code",
   "execution_count": 20,
   "metadata": {},
   "outputs": [
    {
     "name": "stdout",
     "output_type": "stream",
     "text": [
      "[0]\n"
     ]
    }
   ],
   "source": [
    "new_review = \"A bit predictable\"\n",
    "new_review = re.sub('[^a-zA-Z]', ' ', new_review)\n",
    "new_review = new_review.lower()\n",
    "new_review = new_review.split()\n",
    "ps = PorterStemmer()\n",
    "all_stopwords = stopwords.words('english')\n",
    "all_stopwords.remove('not')\n",
    "new_review = [ps.stem(word) for word in new_review if not word in set(all_stopwords)]\n",
    "new_review = ' '.join(new_review)\n",
    "new_corpus = [new_review]\n",
    "new_X_test = cv.transform(new_corpus).toarray()\n",
    "new_y_pred = classifier.predict(new_X_test)\n",
    "print(new_y_pred)"
   ]
  }
 ],
 "metadata": {
  "kernelspec": {
   "display_name": "Python 3",
   "language": "python",
   "name": "python3"
  },
  "language_info": {
   "codemirror_mode": {
    "name": "ipython",
    "version": 3
   },
   "file_extension": ".py",
   "mimetype": "text/x-python",
   "name": "python",
   "nbconvert_exporter": "python",
   "pygments_lexer": "ipython3",
   "version": "3.8.3"
  }
 },
 "nbformat": 4,
 "nbformat_minor": 4
}
